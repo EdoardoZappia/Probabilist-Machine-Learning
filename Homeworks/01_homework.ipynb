{
  "cells": [
    {
      "cell_type": "markdown",
      "metadata": {
        "id": "102c7985"
      },
      "source": [
        "<a href=\"https://colab.research.google.com/github/DavideScassola/PML2024/blob/main/./Homeworks/01_homework.ipynb\" target=\"_parent\"><img src=\"https://colab.research.google.com/assets/colab-badge.svg\" alt=\"Open In Colab\"/></a>"
      ]
    },
    {
      "cell_type": "markdown",
      "metadata": {
        "id": "q1X84lNFyii7"
      },
      "source": [
        "## Homework 1"
      ]
    },
    {
      "cell_type": "markdown",
      "metadata": {
        "id": "tIpechcJyii7"
      },
      "source": [
        "Probabilistic Machine Learning -- Spring 2024, UniTS"
      ]
    },
    {
      "cell_type": "markdown",
      "metadata": {
        "id": "_UV1hrXKyii8"
      },
      "source": [
        "### Problem 1"
      ]
    },
    {
      "cell_type": "markdown",
      "metadata": {
        "id": "MlQj0gVWyii8"
      },
      "source": [
        "Let's call $S$ the Bernoulli random variable describing the presence of a certain substance ($S=1$: present, $S=0$: not present) and $T$ the Bernoulli random variable describing the result of the test for detecting that substance ($T=1$: positive, $T=0$: negative).\n",
        "\n",
        "Given:\n",
        "- $P(T=1 | S=1) = 1 - 10^{-4}$\n",
        "- $P(T=1 | S=0) = 10^{-3}$\n",
        "- $P(S = 1) = 10^{-4}$\n",
        "\n",
        "1. Compute the normalized mutual information between $S$ and $T$, that is defined as follows:\n",
        "$$\\text{NMI}[S,T] = \\frac{2 \\cdot \\text{I}[S,T]}{\\text{H}[A] + \\text{H}[B]}$$\n",
        "\n",
        "where $\\text{I}$ indicates the mutual information, and $\\text{H}$ indicates the entropy\n",
        "\n",
        "2. Let's suppose one can repeat the same test $n$ times, and the result of each test will be independent (conditionally given $S$). What is the minimum number of tests $n$ such that the probability of having a false positive after getting $n$ positive tests is less than $10^{-6}$ ?"
      ]
    },
    {
      "cell_type": "markdown",
      "source": [
        "Solution:\n",
        "\n",
        "S and T are discrete random variables, so the entropy is defined as $$H[p]=-\\sum_ip(x_i)\\log p(x_i)$$\n",
        "The mutual information is defined as $$I[x,y]=KL[p(x,y)||p(x)p(y)]$$"
      ],
      "metadata": {
        "id": "WApw3GT40gRQ"
      }
    },
    {
      "cell_type": "code",
      "source": [
        "import numpy as np\n",
        "\n",
        "# Given probabilities\n",
        "P_T_given_S1 = 1 - 10**-4  # P(T = 1 | S = 1)\n",
        "P_T_given_S0 = 10**-3     # P(T = 1 | S = 0)\n",
        "P_S1 = 10**-4             # P(S = 1)\n",
        "\n",
        "# Derived probabilities\n",
        "P_S0 = 1 - P_S1                               # P(S = 0)\n",
        "P_T1 = P_T_given_S1 * P_S1 + P_T_given_S0 * P_S0 # P(T = 1)\n",
        "P_T0_given_S1 = 1 - P_T_given_S1              # P(T = 0 | S = 1)\n",
        "P_T0_given_S0 = 1 - P_T_given_S0              # P(T = 0 | S = 0)\n",
        "P_T0 = 1 - P_T1                               # P(T = 0)\n",
        "\n",
        "# Entropy of S\n",
        "H_S = - (P_S1 * np.log2(P_S1) + P_S0 * np.log2(P_S0))\n",
        "\n",
        "# Entropy of T\n",
        "H_T = - (P_T1 * np.log2(P_T1) + P_T0 * np.log2(P_T0))\n",
        "\n",
        "# Joint probabilities\n",
        "P_ST11 = P_T_given_S1 * P_S1   # P(S=1, T=1)\n",
        "P_ST10 = P_T0_given_S1 * P_S1  # P(S=1, T=0)\n",
        "P_ST01 = P_T_given_S0 * P_S0   # P(S=0, T=1)\n",
        "P_ST00 = P_T0_given_S0 * P_S0  # P(S=0, T=0)\n",
        "\n",
        "# Mutual information I(S; T)\n",
        "I_ST = (P_ST11 * np.log2(P_ST11 / (P_S1 * P_T1)) +\n",
        "        P_ST10 * np.log2(P_ST10 / (P_S1 * P_T0)) +\n",
        "        P_ST01 * np.log2(P_ST01 / (P_S0 * P_T1)) +\n",
        "        P_ST00 * np.log2(P_ST00 / (P_S0 * P_T0)))\n",
        "\n",
        "# Normalized mutual information\n",
        "NMI = 2 * I_ST / (H_S + H_T)\n",
        "\n",
        "# Output the result\n",
        "print(f\"The Normalized Mutual Information (NMI) is: {NMI}\")"
      ],
      "metadata": {
        "colab": {
          "base_uri": "https://localhost:8080/"
        },
        "id": "VZ2ON9gIDzVD",
        "outputId": "617d8295-7298-4574-e7f5-23c4bc31006f"
      },
      "execution_count": 23,
      "outputs": [
        {
          "output_type": "stream",
          "name": "stdout",
          "text": [
            "The Normalized Mutual Information (NMI) is: 0.14266985665645654\n"
          ]
        }
      ]
    },
    {
      "cell_type": "code",
      "source": [
        "print(P_T1)"
      ],
      "metadata": {
        "colab": {
          "base_uri": "https://localhost:8080/"
        },
        "id": "u7z2IXgefyU8",
        "outputId": "31744b2a-90d0-40a8-9666-27e68002f73d"
      },
      "execution_count": 71,
      "outputs": [
        {
          "output_type": "stream",
          "name": "stdout",
          "text": [
            "0.00109989\n"
          ]
        }
      ]
    },
    {
      "cell_type": "markdown",
      "source": [
        "Given that the results of each test are independent, the probability of having n false positive tests is $$P(T=1|S=0)^n$$\n",
        "Given that $$P(T=1|S=0)=10^{-3}$$\n",
        "We want $P(T=1|S=0)^n<10^{-6}$ so $$n\\log10^{-3} < \\log 10^{-6} $$ $$n > \\frac{-6}{-3}$$ $$ n > 2$$ So we have to take at least 3 tests."
      ],
      "metadata": {
        "id": "aSpQoX2gKGA6"
      }
    },
    {
      "cell_type": "markdown",
      "metadata": {
        "id": "iZ0BT5QSyii9"
      },
      "source": [
        "### Problem 2"
      ]
    },
    {
      "cell_type": "markdown",
      "metadata": {
        "id": "vCWkaNyuyii9"
      },
      "source": [
        "It's night and you are looking into the sky waiting to see a falling star. After the first hour you still haven't seen anything, so you check online and find two sources $s_1$ and $s_2$. According to $s_1$ the waiting time is distributed as $p_1(t) = 2e^{-2t}$, according to $s_2$ it's $p_2(t) = 0.3e^{-0.3t}$.\n",
        "\n",
        "Assuming (only) one of the two is correct and that at first you don't trust one more than the other ( $P(s_1 \\text{ is correct}) = P(s_2 \\text{ is correct}) = 0.5$ ):\n",
        "- Which one of the two sources do you believe more after the first hour? Can you quantify it?\n",
        "- What is the probability of seeing the first falling star in the next 1 hour?"
      ]
    },
    {
      "cell_type": "markdown",
      "source": [
        "Solution:\n",
        "\n",
        "The probability to observe a falling star in the first hour, given that the first source is correct is\n",
        "$$p(t\\le{1}|s_1=1)=\\int_0^12e^{-2t}dt \\sim 0.86$$\n",
        "The probability to observe a falling star in the first hour, given that the second source is correct is\n",
        "$$p(t\\le{1}|s_2=1)=\\int_0^10.3e^{-0.3t}dt \\sim 0.26$$\n",
        "So it seems more probable to be correct the second source, given the fact that I didn't see a falling star in the first our.\n",
        "\n",
        "$$p(\\le{1}t\\le{2}|s_1=1)=\\int_1^22e^{-2t}dt \\sim 0.12$$\n",
        "\n",
        "$$p(\\le{1}t\\le{2}|s_1=1)=\\int_1^20.3e^{-0.3t}dt \\sim 0.19$$\n",
        "\n",
        "Considering that it's more probable that the second source is correct, the probability to observe a falling star between the first and the second hour is $0.19$"
      ],
      "metadata": {
        "id": "9Ac5M9jUZTVU"
      }
    },
    {
      "cell_type": "markdown",
      "metadata": {
        "id": "-feSTJV1yii-"
      },
      "source": [
        "### Problem 3"
      ]
    },
    {
      "cell_type": "markdown",
      "metadata": {
        "id": "FPifswmEyii-"
      },
      "source": [
        "You enrolled to a small tennis tournament organized by your university, that has only other three participants: let's call them $A$, $B$ and $C$.\n",
        "Your first match will be against $A$, and it's scheduled after the match between $A$ and $B$ and the match between $B$ and $C$.\n",
        "\n",
        "Assuming the result of a match $M \\in \\{0,1\\}$ between two players $X$ and $Y$ ($M=1$ means $X$ won, $M=0$ means $Y$ won) is described by the following model:\n",
        "\n",
        "$$M \\sim Bern(p)$$\n",
        "\n",
        "where $p = f(2(S_x - S_y))$ with $f(k) = \\frac{1}{1 + e^{-k}}$ and\n",
        "\n",
        "$$S_i \\sim \\mathcal{N}(0,1)$$\n",
        "\n",
        "is the \"latent\" skill of player $i$ (always the same for every match that player $i$ plays)\n",
        "\n",
        "1. Show a bayesian network describing the relationship between all the involved random variables.\n",
        "2. Make a model in pyro describing the stochastic process.\n",
        "3. Estimate by simulation the probability of (you) winninng against $A$, given that $A$ won against $B$ and $B$ won against $C$. Use exactly 30000 samples and call `set_seed()` before sampling.\n"
      ]
    },
    {
      "cell_type": "markdown",
      "source": [
        "Solution:\n",
        "\n",
        "1_ $$\\begin{matrix}\n",
        "  S_A & S_B & S_C \\\\\n",
        "  | & | & | \\\\\n",
        "  A &→ B &→ C\n",
        "\\end{matrix}$$"
      ],
      "metadata": {
        "id": "ZFEbLeNZYG2m"
      }
    },
    {
      "cell_type": "markdown",
      "source": [
        "2_"
      ],
      "metadata": {
        "id": "0JsdcR3ycY72"
      }
    },
    {
      "cell_type": "code",
      "source": [
        "#!pip install pyro-ppl"
      ],
      "metadata": {
        "id": "rWIQDf8PUkqi"
      },
      "execution_count": 36,
      "outputs": []
    },
    {
      "cell_type": "code",
      "execution_count": 65,
      "metadata": {
        "id": "iUH5D58Fyii_"
      },
      "outputs": [],
      "source": [
        "import random\n",
        "import numpy as np\n",
        "import torch\n",
        "import pyro\n",
        "import pyro.distributions as dist\n",
        "\n",
        "def set_seed():\n",
        "    seed = 0\n",
        "    random.seed(seed)\n",
        "    np.random.seed(seed)\n",
        "    torch.manual_seed(seed)"
      ]
    },
    {
      "cell_type": "code",
      "source": [
        "# Set seed for reproducibility\n",
        "pyro.set_rng_seed(0)\n",
        "\n",
        "def funct(k):\n",
        "    return 1/(1+np.exp(-k))\n",
        "\n",
        "# Define the model\n",
        "def tennis_model():\n",
        "    # Latent skill levels of players\n",
        "    S_A = pyro.sample(\"S_A\", dist.Normal(0, 1))\n",
        "    S_B = pyro.sample(\"S_B\", dist.Normal(0, 1))\n",
        "    S_C = pyro.sample(\"S_C\", dist.Normal(0, 1))\n",
        "    S_you = pyro.sample(\"S_you\", dist.Normal(0, 1))\n",
        "\n",
        "    # Compute match outcomes\n",
        "    p_A_vs_B = funct(2*(S_A-S_B))\n",
        "    A_vs_B = pyro.sample(\"A_vs_B\", dist.Bernoulli(p_A_vs_B))\n",
        "\n",
        "    p_B_vs_C = funct(2*(S_B-S_C))\n",
        "    B_vs_C = pyro.sample(\"B_vs_C\", dist.Bernoulli(p_B_vs_C))\n",
        "\n",
        "    # Infer the outcome of your match against A based on outcomes of previous matches\n",
        "    p_A_vs_you = funct(2*(S_A-S_you))\n",
        "    A_vs_you = pyro.sample(\"A_vs_you\", dist.Bernoulli(p_A_vs_you))\n",
        "\n",
        "    return {\n",
        "        \"A_vs_B\": A_vs_B.item(),\n",
        "        \"B_vs_C\": B_vs_C.item(),\n",
        "        \"A_vs_you\": A_vs_you.item()\n",
        "    }\n",
        "\n",
        "pyro.render_model(tennis_model)"
      ],
      "metadata": {
        "colab": {
          "base_uri": "https://localhost:8080/",
          "height": 176
        },
        "id": "ZF07_Gw8ZSAd",
        "outputId": "0a613813-a882-4099-a791-e4110ab1bfcf"
      },
      "execution_count": 66,
      "outputs": [
        {
          "output_type": "execute_result",
          "data": {
            "image/svg+xml": "<?xml version=\"1.0\" encoding=\"UTF-8\" standalone=\"no\"?>\n<!DOCTYPE svg PUBLIC \"-//W3C//DTD SVG 1.1//EN\"\n \"http://www.w3.org/Graphics/SVG/1.1/DTD/svg11.dtd\">\n<!-- Generated by graphviz version 2.43.0 (0)\n -->\n<!-- Title: %3 Pages: 1 -->\n<svg width=\"303pt\" height=\"116pt\"\n viewBox=\"0.00 0.00 302.79 116.00\" xmlns=\"http://www.w3.org/2000/svg\" xmlns:xlink=\"http://www.w3.org/1999/xlink\">\n<g id=\"graph0\" class=\"graph\" transform=\"scale(1 1) rotate(0) translate(4 112)\">\n<title>%3</title>\n<polygon fill=\"white\" stroke=\"transparent\" points=\"-4,4 -4,-112 298.79,-112 298.79,4 -4,4\"/>\n<!-- S_A -->\n<g id=\"node1\" class=\"node\">\n<title>S_A</title>\n<ellipse fill=\"white\" stroke=\"black\" cx=\"114.8\" cy=\"-90\" rx=\"27\" ry=\"18\"/>\n<text text-anchor=\"middle\" x=\"114.8\" y=\"-86.3\" font-family=\"Times,serif\" font-size=\"14.00\">S_A</text>\n</g>\n<!-- A_vs_B -->\n<g id=\"node5\" class=\"node\">\n<title>A_vs_B</title>\n<ellipse fill=\"white\" stroke=\"black\" cx=\"155.8\" cy=\"-18\" rx=\"39.79\" ry=\"18\"/>\n<text text-anchor=\"middle\" x=\"155.8\" y=\"-14.3\" font-family=\"Times,serif\" font-size=\"14.00\">A_vs_B</text>\n</g>\n<!-- S_A&#45;&gt;A_vs_B -->\n<g id=\"edge1\" class=\"edge\">\n<title>S_A&#45;&gt;A_vs_B</title>\n<path fill=\"none\" stroke=\"black\" d=\"M124.31,-72.76C129.25,-64.32 135.41,-53.8 140.97,-44.31\"/>\n<polygon fill=\"black\" stroke=\"black\" points=\"144.02,-46.03 146.05,-35.63 137.98,-42.49 144.02,-46.03\"/>\n</g>\n<!-- A_vs_you -->\n<g id=\"node7\" class=\"node\">\n<title>A_vs_you</title>\n<ellipse fill=\"white\" stroke=\"black\" cx=\"46.8\" cy=\"-18\" rx=\"46.59\" ry=\"18\"/>\n<text text-anchor=\"middle\" x=\"46.8\" y=\"-14.3\" font-family=\"Times,serif\" font-size=\"14.00\">A_vs_you</text>\n</g>\n<!-- S_A&#45;&gt;A_vs_you -->\n<g id=\"edge5\" class=\"edge\">\n<title>S_A&#45;&gt;A_vs_you</title>\n<path fill=\"none\" stroke=\"black\" d=\"M100.71,-74.5C91.75,-65.28 79.96,-53.14 69.68,-42.56\"/>\n<polygon fill=\"black\" stroke=\"black\" points=\"72.01,-39.93 62.53,-35.2 66.99,-44.81 72.01,-39.93\"/>\n</g>\n<!-- S_B -->\n<g id=\"node2\" class=\"node\">\n<title>S_B</title>\n<ellipse fill=\"white\" stroke=\"black\" cx=\"186.8\" cy=\"-90\" rx=\"27\" ry=\"18\"/>\n<text text-anchor=\"middle\" x=\"186.8\" y=\"-86.3\" font-family=\"Times,serif\" font-size=\"14.00\">S_B</text>\n</g>\n<!-- S_B&#45;&gt;A_vs_B -->\n<g id=\"edge2\" class=\"edge\">\n<title>S_B&#45;&gt;A_vs_B</title>\n<path fill=\"none\" stroke=\"black\" d=\"M179.45,-72.41C175.87,-64.34 171.49,-54.43 167.47,-45.35\"/>\n<polygon fill=\"black\" stroke=\"black\" points=\"170.55,-43.68 163.31,-35.96 164.15,-46.52 170.55,-43.68\"/>\n</g>\n<!-- B_vs_C -->\n<g id=\"node6\" class=\"node\">\n<title>B_vs_C</title>\n<ellipse fill=\"white\" stroke=\"black\" cx=\"255.8\" cy=\"-18\" rx=\"38.99\" ry=\"18\"/>\n<text text-anchor=\"middle\" x=\"255.8\" y=\"-14.3\" font-family=\"Times,serif\" font-size=\"14.00\">B_vs_C</text>\n</g>\n<!-- S_B&#45;&gt;B_vs_C -->\n<g id=\"edge3\" class=\"edge\">\n<title>S_B&#45;&gt;B_vs_C</title>\n<path fill=\"none\" stroke=\"black\" d=\"M201.09,-74.5C210.24,-65.22 222.31,-52.97 232.79,-42.34\"/>\n<polygon fill=\"black\" stroke=\"black\" points=\"235.55,-44.53 240.07,-34.95 230.56,-39.61 235.55,-44.53\"/>\n</g>\n<!-- S_C -->\n<g id=\"node3\" class=\"node\">\n<title>S_C</title>\n<ellipse fill=\"white\" stroke=\"black\" cx=\"258.8\" cy=\"-90\" rx=\"27\" ry=\"18\"/>\n<text text-anchor=\"middle\" x=\"258.8\" y=\"-86.3\" font-family=\"Times,serif\" font-size=\"14.00\">S_C</text>\n</g>\n<!-- S_C&#45;&gt;B_vs_C -->\n<g id=\"edge4\" class=\"edge\">\n<title>S_C&#45;&gt;B_vs_C</title>\n<path fill=\"none\" stroke=\"black\" d=\"M258.05,-71.7C257.72,-63.98 257.33,-54.71 256.96,-46.11\"/>\n<polygon fill=\"black\" stroke=\"black\" points=\"260.45,-45.95 256.53,-36.1 253.46,-46.25 260.45,-45.95\"/>\n</g>\n<!-- S_you -->\n<g id=\"node4\" class=\"node\">\n<title>S_you</title>\n<ellipse fill=\"white\" stroke=\"black\" cx=\"36.8\" cy=\"-90\" rx=\"33.29\" ry=\"18\"/>\n<text text-anchor=\"middle\" x=\"36.8\" y=\"-86.3\" font-family=\"Times,serif\" font-size=\"14.00\">S_you</text>\n</g>\n<!-- S_you&#45;&gt;A_vs_you -->\n<g id=\"edge6\" class=\"edge\">\n<title>S_you&#45;&gt;A_vs_you</title>\n<path fill=\"none\" stroke=\"black\" d=\"M39.27,-71.7C40.37,-63.98 41.69,-54.71 42.92,-46.11\"/>\n<polygon fill=\"black\" stroke=\"black\" points=\"46.4,-46.5 44.35,-36.1 39.47,-45.51 46.4,-46.5\"/>\n</g>\n</g>\n</svg>\n",
            "text/plain": [
              "<graphviz.graphs.Digraph at 0x7edf193896f0>"
            ]
          },
          "metadata": {},
          "execution_count": 66
        }
      ]
    },
    {
      "cell_type": "markdown",
      "source": [
        "3_"
      ],
      "metadata": {
        "id": "ed1vDgJYcbfP"
      }
    },
    {
      "cell_type": "code",
      "source": [
        "# Run the model\n",
        "samples = [tennis_model() for _ in range(30000)]\n",
        "\n",
        "# Count the number of times you win against A given A won against B and B won against C\n",
        "win_count = sum(sample[\"A_vs_you\"] == 0 and sample[\"A_vs_B\"] == 1 and sample[\"B_vs_C\"] == 1 for sample in samples)\n",
        "\n",
        "# Calculate the probability of winning against A\n",
        "probability = win_count / len(samples)\n",
        "print(\"Probability of winning against A:\", probability)"
      ],
      "metadata": {
        "colab": {
          "base_uri": "https://localhost:8080/"
        },
        "id": "dbfqTvxVZnEJ",
        "outputId": "3448cc15-c8ed-443d-974b-793e5d74782c"
      },
      "execution_count": 67,
      "outputs": [
        {
          "output_type": "stream",
          "name": "stdout",
          "text": [
            "Probability of winning against A: 0.06616666666666667\n"
          ]
        }
      ]
    },
    {
      "cell_type": "markdown",
      "metadata": {
        "id": "olmjpuKryijB"
      },
      "source": [
        "### Problem 4"
      ]
    },
    {
      "cell_type": "markdown",
      "metadata": {
        "id": "3wRzRmdxyijC"
      },
      "source": [
        "Given a list of $n$ random variables $X_1, X_2, \\ldots, X_n$ such that:\n",
        "$$\\forall{i}, \\ p(x_{i+2} | x_{i+1}, x_{i}) = p(x_{i+2} | x_{i+1})$$\n",
        "\n",
        "prove:\n",
        "$$\\forall{i}, \\ p(x_{i-2} | x_{i-1}, x_{i}) = p(x_{i-2} | x_{i-1})$$"
      ]
    },
    {
      "cell_type": "markdown",
      "source": [
        "Solution:\n",
        "\n",
        "$$\\forall i \\quad p(x_{i+2}|x_{x+1},x_{i})=p(x_{i+2}|x_{x+1}) \\quad \\Rightarrow \\quad \\forall i \\quad x_{i+2} \\perp x_{i}|x_{x+1}\\\\\n",
        "p(x_{i-2}|x_{i-1},x_{i})=\\frac{p(x_{i-2},x_{i-1},x_{i})}{p(x_{i-1},x_{i})}=\\frac{p(x_{i},x_{i-2}|x_{i-1})p(x_{i-1})}{p(x_{i}|x_{i-1})p(x_{i-1})}=\\\\\n",
        "=\\frac{p(x_{i},x_{i-2}|x_{i-1})}{p(x_{i}|x_{i-1})} \\quad x_{i}\\perp x_{i-2}|x_{i-1} \\quad \\Rightarrow \\quad =\\frac{p(x_{i}|x_{i-1})p(x_{i-2}|x_{i-1})}{p(x_{i}|x_{i-1})}=p(x_{i-2}|x_{i-1})\n",
        "$$"
      ],
      "metadata": {
        "id": "7EMOErPrcWBR"
      }
    },
    {
      "cell_type": "markdown",
      "metadata": {
        "id": "8htsI73HyijC"
      },
      "source": [
        "### Problem 5"
      ]
    },
    {
      "cell_type": "markdown",
      "metadata": {
        "id": "nGX-0vI3yijD"
      },
      "source": [
        "A chocolate easter egg contains 1 of $N$ possible different surprises. Assuming all surprises are equally probable, how many eggs do you expect you have to buy if you want to collect all $N$ possible surprises?\n",
        "\n",
        "Finally, compute it for $N=100$ (using python)"
      ]
    },
    {
      "cell_type": "markdown",
      "metadata": {
        "id": "FjFnb1poyijD"
      },
      "source": [
        "### Problem 6"
      ]
    },
    {
      "cell_type": "markdown",
      "metadata": {
        "id": "4RgxfzzEyijE"
      },
      "source": [
        "In the notebook “Exact inference with Belief Propagation”, we implemented the forward pass of the sum-product algorithm in order to compute the marginal distribution of a variable.  \n",
        "1. Add to the class “Messages” a method “forward” which computes the forward pass without calculating the marginal distribution of a given variable\n",
        "2. Add to the class “Messages” a method “backward” which computes the backward pass\n",
        "3. Add to the class “Messages” a method “belief_propagation” which executes first the forward pass and then the backward pass and uses the messages to compute  all the marginals. Return a dictionary containing the variable names and the corresponding marginals.\n",
        "4. Use this method to compute the marginals of the variables of the factor graph described on page 43 of the notes of the course.\n",
        "\n",
        "For this exercise, please submit the notebook 04_exact_inference.ipybn with your additional code."
      ]
    }
  ],
  "metadata": {
    "kernelspec": {
      "display_name": "Python 3 (ipykernel)",
      "language": "python",
      "name": "python3"
    },
    "language_info": {
      "codemirror_mode": {
        "name": "ipython",
        "version": 3
      },
      "file_extension": ".py",
      "mimetype": "text/x-python",
      "name": "python",
      "nbconvert_exporter": "python",
      "pygments_lexer": "ipython3",
      "version": "3.10.12"
    },
    "colab": {
      "provenance": []
    }
  },
  "nbformat": 4,
  "nbformat_minor": 0
}