{
  "cells": [
    {
      "cell_type": "markdown",
      "metadata": {
        "id": "102c7985"
      },
      "source": [
        "<a href=\"https://colab.research.google.com/github/DavideScassola/PML2024/blob/main/./Homeworks/01_homework.ipynb\" target=\"_parent\"><img src=\"https://colab.research.google.com/assets/colab-badge.svg\" alt=\"Open In Colab\"/></a>"
      ]
    },
    {
      "cell_type": "markdown",
      "metadata": {
        "id": "q1X84lNFyii7"
      },
      "source": [
        "## Homework 1"
      ]
    },
    {
      "cell_type": "markdown",
      "metadata": {
        "id": "tIpechcJyii7"
      },
      "source": [
        "Probabilistic Machine Learning -- Spring 2024, UniTS"
      ]
    },
    {
      "cell_type": "markdown",
      "metadata": {
        "id": "_UV1hrXKyii8"
      },
      "source": [
        "### Problem 1"
      ]
    },
    {
      "cell_type": "markdown",
      "metadata": {
        "id": "MlQj0gVWyii8"
      },
      "source": [
        "Let's call $S$ the Bernoulli random variable describing the presence of a certain substance ($S=1$: present, $S=0$: not present) and $T$ the Bernoulli random variable describing the result of the test for detecting that substance ($T=1$: positive, $T=0$: negative).\n",
        "\n",
        "Given:\n",
        "- $P(T=1 | S=1) = 1 - 10^{-4}$\n",
        "- $P(T=1 | S=0) = 10^{-3}$\n",
        "- $P(S = 1) = 10^{-4}$\n",
        "\n",
        "1. Compute the normalized mutual information between $S$ and $T$, that is defined as follows:\n",
        "$$\\text{NMI}[S,T] = \\frac{2 \\cdot \\text{I}[S,T]}{\\text{H}[A] + \\text{H}[B]}$$\n",
        "\n",
        "where $\\text{I}$ indicates the mutual information, and $\\text{H}$ indicates the entropy\n",
        "\n",
        "2. Let's suppose one can repeat the same test $n$ times, and the result of each test will be independent (conditionally given $S$). What is the minimum number of tests $n$ such that the probability of having a false positive after getting $n$ positive tests is less than $10^{-6}$ ?"
      ]
    },
    {
      "cell_type": "markdown",
      "source": [
        "Solution:\n",
        "\n",
        "S and T are discrete random variables, so the entropy is defined as $$H[p]=-\\sum_ip(x_i)\\log p(x_i)$$\n",
        "The mutual information is defined as $$I[x,y]=KL[p(x,y)||p(x)p(y)]$$"
      ],
      "metadata": {
        "id": "WApw3GT40gRQ"
      }
    },
    {
      "cell_type": "code",
      "source": [
        "import numpy as np\n",
        "\n",
        "P_T1_given_S1 = 1 - 10**-4  # P(T = 1 | S = 1)\n",
        "P_T1_given_S0 = 10**-3     # P(T = 1 | S = 0)\n",
        "P_S1 = 10**-4             # P(S = 1)\n",
        "P_S0 = 1 - P_S1                               # P(S = 0)\n",
        "P_T1 = P_T1_given_S1 * P_S1 + P_T1_given_S0 * P_S0 # P(T = 1)\n",
        "P_T0_given_S1 = 1 - P_T1_given_S1              # P(T = 0 | S = 1)\n",
        "P_T0_given_S0 = 1 - P_T1_given_S0              # P(T = 0 | S = 0)\n",
        "P_T0 = 1 - P_T1                               # P(T = 0)\n",
        "\n",
        "P_S1T1 = P_T1_given_S1 * P_S1   # P(S=1, T=1)\n",
        "P_S1T0 = P_T0_given_S1 * P_S1  # P(S=1, T=0)\n",
        "P_S0T1 = P_T1_given_S0 * P_S0   # P(S=0, T=1)\n",
        "P_S0T0 = P_T0_given_S0 * P_S0  # P(S=0, T=0)\n",
        "\n",
        "# Entropy of S\n",
        "H_S = - (P_S1 * np.log2(P_S1) + P_S0 * np.log2(P_S0))\n",
        "\n",
        "# Entropy of T\n",
        "H_T = - (P_T1 * np.log2(P_T1) + P_T0 * np.log2(P_T0))\n",
        "\n",
        "# Mutual information\n",
        "I_ST = (P_S1T1 * np.log2(P_S1T1 / (P_S1 * P_T1)) +\n",
        "        P_S1T0 * np.log2(P_S1T0 / (P_S1 * P_T0)) +\n",
        "        P_S0T1 * np.log2(P_S0T1 / (P_S0 * P_T1)) +\n",
        "        P_S0T0 * np.log2(P_S0T0 / (P_S0 * P_T0)))\n",
        "\n",
        "# Normalized mutual information\n",
        "NMI = 2 * I_ST / (H_S + H_T)\n",
        "\n",
        "print(f\"The Normalized Mutual Information (NMI) is: {NMI}\")"
      ],
      "metadata": {
        "colab": {
          "base_uri": "https://localhost:8080/"
        },
        "id": "VZ2ON9gIDzVD",
        "outputId": "617d8295-7298-4574-e7f5-23c4bc31006f"
      },
      "execution_count": 23,
      "outputs": [
        {
          "output_type": "stream",
          "name": "stdout",
          "text": [
            "The Normalized Mutual Information (NMI) is: 0.14266985665645654\n"
          ]
        }
      ]
    },
    {
      "cell_type": "markdown",
      "source": [
        "Given that the results of each test are independent, the probability of having n false positive tests is $$P(T=1|S=0)^n$$\n",
        "Given that $$P(T=1|S=0)=10^{-3}$$\n",
        "We want $P(T=1|S=0)^n<10^{-6}$ so $$n\\log10^{-3} < \\log 10^{-6} $$ $$n > \\frac{-6}{-3}$$ $$ n > 2$$ So we have to take at least 3 tests."
      ],
      "metadata": {
        "id": "aSpQoX2gKGA6"
      }
    },
    {
      "cell_type": "markdown",
      "metadata": {
        "id": "iZ0BT5QSyii9"
      },
      "source": [
        "### Problem 2"
      ]
    },
    {
      "cell_type": "markdown",
      "metadata": {
        "id": "vCWkaNyuyii9"
      },
      "source": [
        "It's night and you are looking into the sky waiting to see a falling star. After the first hour you still haven't seen anything, so you check online and find two sources $s_1$ and $s_2$. According to $s_1$ the waiting time is distributed as $p_1(t) = 2e^{-2t}$, according to $s_2$ it's $p_2(t) = 0.3e^{-0.3t}$.\n",
        "\n",
        "Assuming (only) one of the two is correct and that at first you don't trust one more than the other ( $P(s_1 \\text{ is correct}) = P(s_2 \\text{ is correct}) = 0.5$ ):\n",
        "- Which one of the two sources do you believe more after the first hour? Can you quantify it?\n",
        "- What is the probability of seeing the first falling star in the next 1 hour?"
      ]
    },
    {
      "cell_type": "markdown",
      "source": [
        "Solution:\n",
        "\n",
        "The probability to observe a falling star in the first hour, given that the first source is correct is $(s_1=1)$\n",
        "$$p(t \\le 1 | s_1=1)=\\int_0^12e^{-2t}dt \\sim 0.86$$\n",
        "The probability to observe a falling star in the first hour, given that the second source is correct is $(s_2=1)$\n",
        "$$p(t \\le 1 | s_2=1)=\\int_0^10.3e^{-0.3t}dt \\sim 0.26$$\n",
        "So it seems more probable to be correct the second source, given the fact that I didn't see a falling star in the first our.\n",
        "\n",
        "The probability of observe a falling star between the first and the second hour is the same as the probability of observe it in the first hour because of the absence of memory of the distributions examined. Let's prove it:\n",
        "\n",
        "$$p(t \\lt 2 | t\\gt 1 \\cap s_1=1)=\\frac{p(t \\lt 2 \\cap t\\gt 1 \\cap s_1=1I}{p(t \\gt 1  \\cap s_1=1)}=\\frac{p(1 \\lt t \\lt 2 \\cap s_1=1)}{p(t \\gt 1  \\cap s_1=1)} =\\\\\n",
        "= \\frac{\\int_1^22e^{-2t}dt}{\\int_1^\\infty2e^{-2t}dt} \\sim 0.86$$\n",
        "\n",
        "$$p(t \\lt 2 | t\\gt 1 \\cap s_2=1)=\\frac{p(t \\lt 2 \\cap t\\gt 1 \\cap s_2=1)}{p(t \\gt 1  \\cap s_2=1)}=\\frac{p(1 \\lt t \\lt 2 \\cap s_2=1)}{p(t \\gt 1  \\cap s_2=1)} =\\\\\n",
        "= \\frac{\\int_1^20.3e^{-0.3t}dt}{\\int_1^\\infty0.3e^{-0.3t}dt} \\sim 0.26$$"
      ],
      "metadata": {
        "id": "9Ac5M9jUZTVU"
      }
    },
    {
      "cell_type": "markdown",
      "metadata": {
        "id": "-feSTJV1yii-"
      },
      "source": [
        "### Problem 3"
      ]
    },
    {
      "cell_type": "markdown",
      "metadata": {
        "id": "FPifswmEyii-"
      },
      "source": [
        "You enrolled to a small tennis tournament organized by your university, that has only other three participants: let's call them $A$, $B$ and $C$.\n",
        "Your first match will be against $A$, and it's scheduled after the match between $A$ and $B$ and the match between $B$ and $C$.\n",
        "\n",
        "Assuming the result of a match $M \\in \\{0,1\\}$ between two players $X$ and $Y$ ($M=1$ means $X$ won, $M=0$ means $Y$ won) is described by the following model:\n",
        "\n",
        "$$M \\sim Bern(p)$$\n",
        "\n",
        "where $p = f(2(S_x - S_y))$ with $f(k) = \\frac{1}{1 + e^{-k}}$ and\n",
        "\n",
        "$$S_i \\sim \\mathcal{N}(0,1)$$\n",
        "\n",
        "is the \"latent\" skill of player $i$ (always the same for every match that player $i$ plays)\n",
        "\n",
        "1. Show a bayesian network describing the relationship between all the involved random variables.\n",
        "2. Make a model in pyro describing the stochastic process.\n",
        "3. Estimate by simulation the probability of (you) winninng against $A$, given that $A$ won against $B$ and $B$ won against $C$. Use exactly 30000 samples and call `set_seed()` before sampling.\n"
      ]
    },
    {
      "cell_type": "markdown",
      "source": [
        "Solution:\n",
        "\n",
        "1_ $$\\begin{matrix}\n",
        "  S_A & S_B & S_C \\\\\n",
        "  | & | & | \\\\\n",
        "  A &→ B &→ C\n",
        "\\end{matrix}$$"
      ],
      "metadata": {
        "id": "ZFEbLeNZYG2m"
      }
    },
    {
      "cell_type": "markdown",
      "source": [
        "2_"
      ],
      "metadata": {
        "id": "0JsdcR3ycY72"
      }
    },
    {
      "cell_type": "code",
      "source": [
        "#!pip install pyro-ppl"
      ],
      "metadata": {
        "id": "rWIQDf8PUkqi"
      },
      "execution_count": 35,
      "outputs": []
    },
    {
      "cell_type": "code",
      "execution_count": 32,
      "metadata": {
        "id": "iUH5D58Fyii_"
      },
      "outputs": [],
      "source": [
        "import random\n",
        "import numpy as np\n",
        "import pandas as pd\n",
        "import torch\n",
        "import pyro\n",
        "import pyro.distributions as dist\n",
        "import seaborn as sns\n",
        "\n",
        "def set_seed():\n",
        "    seed = 0\n",
        "    random.seed(seed)\n",
        "    np.random.seed(seed)\n",
        "    torch.manual_seed(seed)"
      ]
    },
    {
      "cell_type": "code",
      "source": [
        "# Set seed for reproducibility\n",
        "set_seed()\n",
        "\n",
        "def funct(k):\n",
        "    return 1/(1+np.exp(-k))\n",
        "\n",
        "# Define the model\n",
        "def tennis_model(n : int = 1):\n",
        "    # Latent skill levels of players\n",
        "    S_A = pyro.sample(\"S_A\", dist.Normal(0, 1))\n",
        "    S_B = pyro.sample(\"S_B\", dist.Normal(0, 1))\n",
        "    S_C = pyro.sample(\"S_C\", dist.Normal(0, 1))\n",
        "    S_you = pyro.sample(\"S_you\", dist.Normal(0, 1))\n",
        "\n",
        "    # Compute match outcomes\n",
        "    p_A_vs_B = funct(2*(S_A-S_B))\n",
        "    A_vs_B = pyro.sample(\"A_vs_B\", dist.Bernoulli(p_A_vs_B), sample_shape=(n,))\n",
        "\n",
        "    p_B_vs_C = funct(2*(S_B-S_C))\n",
        "    B_vs_C = pyro.sample(\"B_vs_C\", dist.Bernoulli(p_B_vs_C), sample_shape=(n,))\n",
        "\n",
        "    # Infer the outcome of your match against A based on outcomes of previous matches\n",
        "    p_A_vs_you = funct(2*(S_A-S_you))\n",
        "    A_vs_you = pyro.sample(\"A_vs_you\", dist.Bernoulli(p_A_vs_you), sample_shape=(n,))\n",
        "\n",
        "    return {\n",
        "        \"A_vs_B\": A_vs_B,\n",
        "        \"B_vs_C\": B_vs_C,\n",
        "        \"A_vs_you\": A_vs_you\n",
        "    }\n",
        "\n",
        "pyro.render_model(tennis_model)"
      ],
      "metadata": {
        "colab": {
          "base_uri": "https://localhost:8080/",
          "height": 176
        },
        "id": "ZF07_Gw8ZSAd",
        "outputId": "ea80bae9-5213-42ff-902d-d3723383c3a7"
      },
      "execution_count": 40,
      "outputs": [
        {
          "output_type": "execute_result",
          "data": {
            "image/svg+xml": "<?xml version=\"1.0\" encoding=\"UTF-8\" standalone=\"no\"?>\n<!DOCTYPE svg PUBLIC \"-//W3C//DTD SVG 1.1//EN\"\n \"http://www.w3.org/Graphics/SVG/1.1/DTD/svg11.dtd\">\n<!-- Generated by graphviz version 2.43.0 (0)\n -->\n<!-- Title: %3 Pages: 1 -->\n<svg width=\"303pt\" height=\"116pt\"\n viewBox=\"0.00 0.00 302.79 116.00\" xmlns=\"http://www.w3.org/2000/svg\" xmlns:xlink=\"http://www.w3.org/1999/xlink\">\n<g id=\"graph0\" class=\"graph\" transform=\"scale(1 1) rotate(0) translate(4 112)\">\n<title>%3</title>\n<polygon fill=\"white\" stroke=\"transparent\" points=\"-4,4 -4,-112 298.79,-112 298.79,4 -4,4\"/>\n<!-- S_A -->\n<g id=\"node1\" class=\"node\">\n<title>S_A</title>\n<ellipse fill=\"white\" stroke=\"black\" cx=\"114.8\" cy=\"-90\" rx=\"27\" ry=\"18\"/>\n<text text-anchor=\"middle\" x=\"114.8\" y=\"-86.3\" font-family=\"Times,serif\" font-size=\"14.00\">S_A</text>\n</g>\n<!-- A_vs_B -->\n<g id=\"node5\" class=\"node\">\n<title>A_vs_B</title>\n<ellipse fill=\"white\" stroke=\"black\" cx=\"155.8\" cy=\"-18\" rx=\"39.79\" ry=\"18\"/>\n<text text-anchor=\"middle\" x=\"155.8\" y=\"-14.3\" font-family=\"Times,serif\" font-size=\"14.00\">A_vs_B</text>\n</g>\n<!-- S_A&#45;&gt;A_vs_B -->\n<g id=\"edge1\" class=\"edge\">\n<title>S_A&#45;&gt;A_vs_B</title>\n<path fill=\"none\" stroke=\"black\" d=\"M124.31,-72.76C129.25,-64.32 135.41,-53.8 140.97,-44.31\"/>\n<polygon fill=\"black\" stroke=\"black\" points=\"144.02,-46.03 146.05,-35.63 137.98,-42.49 144.02,-46.03\"/>\n</g>\n<!-- A_vs_you -->\n<g id=\"node7\" class=\"node\">\n<title>A_vs_you</title>\n<ellipse fill=\"white\" stroke=\"black\" cx=\"46.8\" cy=\"-18\" rx=\"46.59\" ry=\"18\"/>\n<text text-anchor=\"middle\" x=\"46.8\" y=\"-14.3\" font-family=\"Times,serif\" font-size=\"14.00\">A_vs_you</text>\n</g>\n<!-- S_A&#45;&gt;A_vs_you -->\n<g id=\"edge5\" class=\"edge\">\n<title>S_A&#45;&gt;A_vs_you</title>\n<path fill=\"none\" stroke=\"black\" d=\"M100.71,-74.5C91.75,-65.28 79.96,-53.14 69.68,-42.56\"/>\n<polygon fill=\"black\" stroke=\"black\" points=\"72.01,-39.93 62.53,-35.2 66.99,-44.81 72.01,-39.93\"/>\n</g>\n<!-- S_B -->\n<g id=\"node2\" class=\"node\">\n<title>S_B</title>\n<ellipse fill=\"white\" stroke=\"black\" cx=\"186.8\" cy=\"-90\" rx=\"27\" ry=\"18\"/>\n<text text-anchor=\"middle\" x=\"186.8\" y=\"-86.3\" font-family=\"Times,serif\" font-size=\"14.00\">S_B</text>\n</g>\n<!-- S_B&#45;&gt;A_vs_B -->\n<g id=\"edge2\" class=\"edge\">\n<title>S_B&#45;&gt;A_vs_B</title>\n<path fill=\"none\" stroke=\"black\" d=\"M179.45,-72.41C175.87,-64.34 171.49,-54.43 167.47,-45.35\"/>\n<polygon fill=\"black\" stroke=\"black\" points=\"170.55,-43.68 163.31,-35.96 164.15,-46.52 170.55,-43.68\"/>\n</g>\n<!-- B_vs_C -->\n<g id=\"node6\" class=\"node\">\n<title>B_vs_C</title>\n<ellipse fill=\"white\" stroke=\"black\" cx=\"255.8\" cy=\"-18\" rx=\"38.99\" ry=\"18\"/>\n<text text-anchor=\"middle\" x=\"255.8\" y=\"-14.3\" font-family=\"Times,serif\" font-size=\"14.00\">B_vs_C</text>\n</g>\n<!-- S_B&#45;&gt;B_vs_C -->\n<g id=\"edge3\" class=\"edge\">\n<title>S_B&#45;&gt;B_vs_C</title>\n<path fill=\"none\" stroke=\"black\" d=\"M201.09,-74.5C210.24,-65.22 222.31,-52.97 232.79,-42.34\"/>\n<polygon fill=\"black\" stroke=\"black\" points=\"235.55,-44.53 240.07,-34.95 230.56,-39.61 235.55,-44.53\"/>\n</g>\n<!-- S_C -->\n<g id=\"node3\" class=\"node\">\n<title>S_C</title>\n<ellipse fill=\"white\" stroke=\"black\" cx=\"258.8\" cy=\"-90\" rx=\"27\" ry=\"18\"/>\n<text text-anchor=\"middle\" x=\"258.8\" y=\"-86.3\" font-family=\"Times,serif\" font-size=\"14.00\">S_C</text>\n</g>\n<!-- S_C&#45;&gt;B_vs_C -->\n<g id=\"edge4\" class=\"edge\">\n<title>S_C&#45;&gt;B_vs_C</title>\n<path fill=\"none\" stroke=\"black\" d=\"M258.05,-71.7C257.72,-63.98 257.33,-54.71 256.96,-46.11\"/>\n<polygon fill=\"black\" stroke=\"black\" points=\"260.45,-45.95 256.53,-36.1 253.46,-46.25 260.45,-45.95\"/>\n</g>\n<!-- S_you -->\n<g id=\"node4\" class=\"node\">\n<title>S_you</title>\n<ellipse fill=\"white\" stroke=\"black\" cx=\"36.8\" cy=\"-90\" rx=\"33.29\" ry=\"18\"/>\n<text text-anchor=\"middle\" x=\"36.8\" y=\"-86.3\" font-family=\"Times,serif\" font-size=\"14.00\">S_you</text>\n</g>\n<!-- S_you&#45;&gt;A_vs_you -->\n<g id=\"edge6\" class=\"edge\">\n<title>S_you&#45;&gt;A_vs_you</title>\n<path fill=\"none\" stroke=\"black\" d=\"M39.27,-71.7C40.37,-63.98 41.69,-54.71 42.92,-46.11\"/>\n<polygon fill=\"black\" stroke=\"black\" points=\"46.4,-46.5 44.35,-36.1 39.47,-45.51 46.4,-46.5\"/>\n</g>\n</g>\n</svg>\n",
            "text/plain": [
              "<graphviz.graphs.Digraph at 0x7bcbbfbb3190>"
            ]
          },
          "metadata": {},
          "execution_count": 40
        }
      ]
    },
    {
      "cell_type": "markdown",
      "source": [
        "3_"
      ],
      "metadata": {
        "id": "ed1vDgJYcbfP"
      }
    },
    {
      "cell_type": "code",
      "source": [
        "df_samples.head()"
      ],
      "metadata": {
        "colab": {
          "base_uri": "https://localhost:8080/",
          "height": 204
        },
        "id": "AwiXQ2dUCU8S",
        "outputId": "5f5405c1-98cf-4ba7-8090-b2e06bf11248"
      },
      "execution_count": 41,
      "outputs": [
        {
          "output_type": "execute_result",
          "data": {
            "text/plain": [
              "   A_vs_B  B_vs_C  A_vs_you\n",
              "0     0.0     1.0       0.0\n",
              "1     1.0     1.0       0.0\n",
              "2     0.0     1.0       0.0\n",
              "3     0.0     1.0       0.0\n",
              "4     0.0     1.0       0.0"
            ],
            "text/html": [
              "\n",
              "  <div id=\"df-61d12d1a-7db4-4b7e-8cbf-cf8fc9cb13fa\" class=\"colab-df-container\">\n",
              "    <div>\n",
              "<style scoped>\n",
              "    .dataframe tbody tr th:only-of-type {\n",
              "        vertical-align: middle;\n",
              "    }\n",
              "\n",
              "    .dataframe tbody tr th {\n",
              "        vertical-align: top;\n",
              "    }\n",
              "\n",
              "    .dataframe thead th {\n",
              "        text-align: right;\n",
              "    }\n",
              "</style>\n",
              "<table border=\"1\" class=\"dataframe\">\n",
              "  <thead>\n",
              "    <tr style=\"text-align: right;\">\n",
              "      <th></th>\n",
              "      <th>A_vs_B</th>\n",
              "      <th>B_vs_C</th>\n",
              "      <th>A_vs_you</th>\n",
              "    </tr>\n",
              "  </thead>\n",
              "  <tbody>\n",
              "    <tr>\n",
              "      <th>0</th>\n",
              "      <td>0.0</td>\n",
              "      <td>1.0</td>\n",
              "      <td>0.0</td>\n",
              "    </tr>\n",
              "    <tr>\n",
              "      <th>1</th>\n",
              "      <td>1.0</td>\n",
              "      <td>1.0</td>\n",
              "      <td>0.0</td>\n",
              "    </tr>\n",
              "    <tr>\n",
              "      <th>2</th>\n",
              "      <td>0.0</td>\n",
              "      <td>1.0</td>\n",
              "      <td>0.0</td>\n",
              "    </tr>\n",
              "    <tr>\n",
              "      <th>3</th>\n",
              "      <td>0.0</td>\n",
              "      <td>1.0</td>\n",
              "      <td>0.0</td>\n",
              "    </tr>\n",
              "    <tr>\n",
              "      <th>4</th>\n",
              "      <td>0.0</td>\n",
              "      <td>1.0</td>\n",
              "      <td>0.0</td>\n",
              "    </tr>\n",
              "  </tbody>\n",
              "</table>\n",
              "</div>\n",
              "    <div class=\"colab-df-buttons\">\n",
              "\n",
              "  <div class=\"colab-df-container\">\n",
              "    <button class=\"colab-df-convert\" onclick=\"convertToInteractive('df-61d12d1a-7db4-4b7e-8cbf-cf8fc9cb13fa')\"\n",
              "            title=\"Convert this dataframe to an interactive table.\"\n",
              "            style=\"display:none;\">\n",
              "\n",
              "  <svg xmlns=\"http://www.w3.org/2000/svg\" height=\"24px\" viewBox=\"0 -960 960 960\">\n",
              "    <path d=\"M120-120v-720h720v720H120Zm60-500h600v-160H180v160Zm220 220h160v-160H400v160Zm0 220h160v-160H400v160ZM180-400h160v-160H180v160Zm440 0h160v-160H620v160ZM180-180h160v-160H180v160Zm440 0h160v-160H620v160Z\"/>\n",
              "  </svg>\n",
              "    </button>\n",
              "\n",
              "  <style>\n",
              "    .colab-df-container {\n",
              "      display:flex;\n",
              "      gap: 12px;\n",
              "    }\n",
              "\n",
              "    .colab-df-convert {\n",
              "      background-color: #E8F0FE;\n",
              "      border: none;\n",
              "      border-radius: 50%;\n",
              "      cursor: pointer;\n",
              "      display: none;\n",
              "      fill: #1967D2;\n",
              "      height: 32px;\n",
              "      padding: 0 0 0 0;\n",
              "      width: 32px;\n",
              "    }\n",
              "\n",
              "    .colab-df-convert:hover {\n",
              "      background-color: #E2EBFA;\n",
              "      box-shadow: 0px 1px 2px rgba(60, 64, 67, 0.3), 0px 1px 3px 1px rgba(60, 64, 67, 0.15);\n",
              "      fill: #174EA6;\n",
              "    }\n",
              "\n",
              "    .colab-df-buttons div {\n",
              "      margin-bottom: 4px;\n",
              "    }\n",
              "\n",
              "    [theme=dark] .colab-df-convert {\n",
              "      background-color: #3B4455;\n",
              "      fill: #D2E3FC;\n",
              "    }\n",
              "\n",
              "    [theme=dark] .colab-df-convert:hover {\n",
              "      background-color: #434B5C;\n",
              "      box-shadow: 0px 1px 3px 1px rgba(0, 0, 0, 0.15);\n",
              "      filter: drop-shadow(0px 1px 2px rgba(0, 0, 0, 0.3));\n",
              "      fill: #FFFFFF;\n",
              "    }\n",
              "  </style>\n",
              "\n",
              "    <script>\n",
              "      const buttonEl =\n",
              "        document.querySelector('#df-61d12d1a-7db4-4b7e-8cbf-cf8fc9cb13fa button.colab-df-convert');\n",
              "      buttonEl.style.display =\n",
              "        google.colab.kernel.accessAllowed ? 'block' : 'none';\n",
              "\n",
              "      async function convertToInteractive(key) {\n",
              "        const element = document.querySelector('#df-61d12d1a-7db4-4b7e-8cbf-cf8fc9cb13fa');\n",
              "        const dataTable =\n",
              "          await google.colab.kernel.invokeFunction('convertToInteractive',\n",
              "                                                    [key], {});\n",
              "        if (!dataTable) return;\n",
              "\n",
              "        const docLinkHtml = 'Like what you see? Visit the ' +\n",
              "          '<a target=\"_blank\" href=https://colab.research.google.com/notebooks/data_table.ipynb>data table notebook</a>'\n",
              "          + ' to learn more about interactive tables.';\n",
              "        element.innerHTML = '';\n",
              "        dataTable['output_type'] = 'display_data';\n",
              "        await google.colab.output.renderOutput(dataTable, element);\n",
              "        const docLink = document.createElement('div');\n",
              "        docLink.innerHTML = docLinkHtml;\n",
              "        element.appendChild(docLink);\n",
              "      }\n",
              "    </script>\n",
              "  </div>\n",
              "\n",
              "\n",
              "<div id=\"df-2394ea07-b03d-4b5d-9f58-612326a53e1e\">\n",
              "  <button class=\"colab-df-quickchart\" onclick=\"quickchart('df-2394ea07-b03d-4b5d-9f58-612326a53e1e')\"\n",
              "            title=\"Suggest charts\"\n",
              "            style=\"display:none;\">\n",
              "\n",
              "<svg xmlns=\"http://www.w3.org/2000/svg\" height=\"24px\"viewBox=\"0 0 24 24\"\n",
              "     width=\"24px\">\n",
              "    <g>\n",
              "        <path d=\"M19 3H5c-1.1 0-2 .9-2 2v14c0 1.1.9 2 2 2h14c1.1 0 2-.9 2-2V5c0-1.1-.9-2-2-2zM9 17H7v-7h2v7zm4 0h-2V7h2v10zm4 0h-2v-4h2v4z\"/>\n",
              "    </g>\n",
              "</svg>\n",
              "  </button>\n",
              "\n",
              "<style>\n",
              "  .colab-df-quickchart {\n",
              "      --bg-color: #E8F0FE;\n",
              "      --fill-color: #1967D2;\n",
              "      --hover-bg-color: #E2EBFA;\n",
              "      --hover-fill-color: #174EA6;\n",
              "      --disabled-fill-color: #AAA;\n",
              "      --disabled-bg-color: #DDD;\n",
              "  }\n",
              "\n",
              "  [theme=dark] .colab-df-quickchart {\n",
              "      --bg-color: #3B4455;\n",
              "      --fill-color: #D2E3FC;\n",
              "      --hover-bg-color: #434B5C;\n",
              "      --hover-fill-color: #FFFFFF;\n",
              "      --disabled-bg-color: #3B4455;\n",
              "      --disabled-fill-color: #666;\n",
              "  }\n",
              "\n",
              "  .colab-df-quickchart {\n",
              "    background-color: var(--bg-color);\n",
              "    border: none;\n",
              "    border-radius: 50%;\n",
              "    cursor: pointer;\n",
              "    display: none;\n",
              "    fill: var(--fill-color);\n",
              "    height: 32px;\n",
              "    padding: 0;\n",
              "    width: 32px;\n",
              "  }\n",
              "\n",
              "  .colab-df-quickchart:hover {\n",
              "    background-color: var(--hover-bg-color);\n",
              "    box-shadow: 0 1px 2px rgba(60, 64, 67, 0.3), 0 1px 3px 1px rgba(60, 64, 67, 0.15);\n",
              "    fill: var(--button-hover-fill-color);\n",
              "  }\n",
              "\n",
              "  .colab-df-quickchart-complete:disabled,\n",
              "  .colab-df-quickchart-complete:disabled:hover {\n",
              "    background-color: var(--disabled-bg-color);\n",
              "    fill: var(--disabled-fill-color);\n",
              "    box-shadow: none;\n",
              "  }\n",
              "\n",
              "  .colab-df-spinner {\n",
              "    border: 2px solid var(--fill-color);\n",
              "    border-color: transparent;\n",
              "    border-bottom-color: var(--fill-color);\n",
              "    animation:\n",
              "      spin 1s steps(1) infinite;\n",
              "  }\n",
              "\n",
              "  @keyframes spin {\n",
              "    0% {\n",
              "      border-color: transparent;\n",
              "      border-bottom-color: var(--fill-color);\n",
              "      border-left-color: var(--fill-color);\n",
              "    }\n",
              "    20% {\n",
              "      border-color: transparent;\n",
              "      border-left-color: var(--fill-color);\n",
              "      border-top-color: var(--fill-color);\n",
              "    }\n",
              "    30% {\n",
              "      border-color: transparent;\n",
              "      border-left-color: var(--fill-color);\n",
              "      border-top-color: var(--fill-color);\n",
              "      border-right-color: var(--fill-color);\n",
              "    }\n",
              "    40% {\n",
              "      border-color: transparent;\n",
              "      border-right-color: var(--fill-color);\n",
              "      border-top-color: var(--fill-color);\n",
              "    }\n",
              "    60% {\n",
              "      border-color: transparent;\n",
              "      border-right-color: var(--fill-color);\n",
              "    }\n",
              "    80% {\n",
              "      border-color: transparent;\n",
              "      border-right-color: var(--fill-color);\n",
              "      border-bottom-color: var(--fill-color);\n",
              "    }\n",
              "    90% {\n",
              "      border-color: transparent;\n",
              "      border-bottom-color: var(--fill-color);\n",
              "    }\n",
              "  }\n",
              "</style>\n",
              "\n",
              "  <script>\n",
              "    async function quickchart(key) {\n",
              "      const quickchartButtonEl =\n",
              "        document.querySelector('#' + key + ' button');\n",
              "      quickchartButtonEl.disabled = true;  // To prevent multiple clicks.\n",
              "      quickchartButtonEl.classList.add('colab-df-spinner');\n",
              "      try {\n",
              "        const charts = await google.colab.kernel.invokeFunction(\n",
              "            'suggestCharts', [key], {});\n",
              "      } catch (error) {\n",
              "        console.error('Error during call to suggestCharts:', error);\n",
              "      }\n",
              "      quickchartButtonEl.classList.remove('colab-df-spinner');\n",
              "      quickchartButtonEl.classList.add('colab-df-quickchart-complete');\n",
              "    }\n",
              "    (() => {\n",
              "      let quickchartButtonEl =\n",
              "        document.querySelector('#df-2394ea07-b03d-4b5d-9f58-612326a53e1e button');\n",
              "      quickchartButtonEl.style.display =\n",
              "        google.colab.kernel.accessAllowed ? 'block' : 'none';\n",
              "    })();\n",
              "  </script>\n",
              "</div>\n",
              "    </div>\n",
              "  </div>\n"
            ],
            "application/vnd.google.colaboratory.intrinsic+json": {
              "type": "dataframe",
              "variable_name": "df_samples",
              "summary": "{\n  \"name\": \"df_samples\",\n  \"rows\": 30000,\n  \"fields\": [\n    {\n      \"column\": \"A_vs_B\",\n      \"properties\": {\n        \"dtype\": \"float32\",\n        \"num_unique_values\": 2,\n        \"samples\": [\n          1.0,\n          0.0\n        ],\n        \"semantic_type\": \"\",\n        \"description\": \"\"\n      }\n    },\n    {\n      \"column\": \"B_vs_C\",\n      \"properties\": {\n        \"dtype\": \"float32\",\n        \"num_unique_values\": 2,\n        \"samples\": [\n          0.0,\n          1.0\n        ],\n        \"semantic_type\": \"\",\n        \"description\": \"\"\n      }\n    },\n    {\n      \"column\": \"A_vs_you\",\n      \"properties\": {\n        \"dtype\": \"float32\",\n        \"num_unique_values\": 2,\n        \"samples\": [\n          1.0,\n          0.0\n        ],\n        \"semantic_type\": \"\",\n        \"description\": \"\"\n      }\n    }\n  ]\n}"
            }
          },
          "metadata": {},
          "execution_count": 41
        }
      ]
    },
    {
      "cell_type": "code",
      "source": [
        "# Run the model\n",
        "samples = tennis_model(30_000)\n",
        "df_samples = pd.DataFrame({key: value.numpy() for key, value in samples.items()})\n",
        "# Count the number of times you win against A given A won against B and B won against C\n",
        "win_count = ((df_samples[\"A_vs_you\"] == 0) & (df_samples[\"A_vs_B\"] == 1) & (df_samples[\"B_vs_C\"] == 1)).sum()\n",
        "# Calculate the probability of winning against A\n",
        "probability = win_count / len(df_samples)\n",
        "print(\"Probability of winning against A:\", probability)"
      ],
      "metadata": {
        "colab": {
          "base_uri": "https://localhost:8080/"
        },
        "id": "dbfqTvxVZnEJ",
        "outputId": "437b436d-2117-41e8-87fb-adbfc1a6ae20"
      },
      "execution_count": 47,
      "outputs": [
        {
          "output_type": "stream",
          "name": "stdout",
          "text": [
            "Probability of winning against A: 0.0677\n"
          ]
        }
      ]
    },
    {
      "cell_type": "markdown",
      "metadata": {
        "id": "olmjpuKryijB"
      },
      "source": [
        "### Problem 4"
      ]
    },
    {
      "cell_type": "markdown",
      "metadata": {
        "id": "3wRzRmdxyijC"
      },
      "source": [
        "Given a list of $n$ random variables $X_1, X_2, \\ldots, X_n$ such that:\n",
        "$$\\forall{i}, \\ p(x_{i+2} | x_{i+1}, x_{i}) = p(x_{i+2} | x_{i+1})$$\n",
        "\n",
        "prove:\n",
        "$$\\forall{i}, \\ p(x_{i-2} | x_{i-1}, x_{i}) = p(x_{i-2} | x_{i-1})$$"
      ]
    },
    {
      "cell_type": "markdown",
      "source": [
        "Solution:\n",
        "\n",
        "$$\\forall i \\quad p(x_{i+2}|x_{x+1},x_{i})=p(x_{i+2}|x_{x+1}) \\quad \\Rightarrow \\quad \\forall i \\quad x_{i+2} \\perp x_{i}|x_{x+1}\\\\\n",
        "p(x_{i-2}|x_{i-1},x_{i})=\\frac{p(x_{i-2},x_{i-1},x_{i})}{p(x_{i-1},x_{i})}=\\frac{p(x_{i},x_{i-2}|x_{i-1})p(x_{i-1})}{p(x_{i}|x_{i-1})p(x_{i-1})}=\\\\\n",
        "=\\frac{p(x_{i},x_{i-2}|x_{i-1})}{p(x_{i}|x_{i-1})} \\quad x_{i}\\perp x_{i-2}|x_{i-1} \\quad \\Rightarrow \\quad =\\frac{p(x_{i}|x_{i-1})p(x_{i-2}|x_{i-1})}{p(x_{i}|x_{i-1})}=p(x_{i-2}|x_{i-1})\n",
        "$$"
      ],
      "metadata": {
        "id": "7EMOErPrcWBR"
      }
    },
    {
      "cell_type": "markdown",
      "metadata": {
        "id": "8htsI73HyijC"
      },
      "source": [
        "### Problem 5"
      ]
    },
    {
      "cell_type": "markdown",
      "metadata": {
        "id": "nGX-0vI3yijD"
      },
      "source": [
        "A chocolate easter egg contains 1 of $N$ possible different surprises. Assuming all surprises are equally probable, how many eggs do you expect you have to buy if you want to collect all $N$ possible surprises?\n",
        "\n",
        "Finally, compute it for $N=100$ (using python)"
      ]
    },
    {
      "cell_type": "code",
      "source": [
        "def expected_eggs_to_collect_all(N):\n",
        "    # Calculate the expected number of eggs\n",
        "    expected_eggs = N * sum(1 / i for i in range(1, N + 1))\n",
        "    return expected_eggs\n",
        "\n",
        "# Example usage\n",
        "N = 100  # Number of possible surprises\n",
        "expected_eggs = expected_eggs_to_collect_all(N)\n",
        "print(\"Expected number of eggs to collect all\", N, \"possible surprises:\", expected_eggs)\n"
      ],
      "metadata": {
        "colab": {
          "base_uri": "https://localhost:8080/"
        },
        "id": "G13trcM8FNB0",
        "outputId": "a61ea1de-1089-4e95-e0a4-4e5e606b7098"
      },
      "execution_count": 49,
      "outputs": [
        {
          "output_type": "stream",
          "name": "stdout",
          "text": [
            "Expected number of eggs to collect all 100 possible surprises: 518.737751763962\n"
          ]
        }
      ]
    },
    {
      "cell_type": "markdown",
      "source": [
        "So the minimum number of eggs to open is 519"
      ],
      "metadata": {
        "id": "rOcshShUF20S"
      }
    },
    {
      "cell_type": "markdown",
      "metadata": {
        "id": "FjFnb1poyijD"
      },
      "source": [
        "### Problem 6"
      ]
    },
    {
      "cell_type": "markdown",
      "metadata": {
        "id": "4RgxfzzEyijE"
      },
      "source": [
        "In the notebook “Exact inference with Belief Propagation”, we implemented the forward pass of the sum-product algorithm in order to compute the marginal distribution of a variable.  \n",
        "1. Add to the class “Messages” a method “forward” which computes the forward pass without calculating the marginal distribution of a given variable\n",
        "2. Add to the class “Messages” a method “backward” which computes the backward pass\n",
        "3. Add to the class “Messages” a method “belief_propagation” which executes first the forward pass and then the backward pass and uses the messages to compute  all the marginals. Return a dictionary containing the variable names and the corresponding marginals.\n",
        "4. Use this method to compute the marginals of the variables of the factor graph described on page 43 of the notes of the course.\n",
        "\n",
        "For this exercise, please submit the notebook 04_exact_inference.ipybn with your additional code."
      ]
    },
    {
      "cell_type": "code",
      "source": [
        "class Messages(object):\n",
        "    def __init__(self):\n",
        "        self.messages = {}\n",
        "\n",
        "    def _variable_to_factor_messages(self, variable: Variable, factor: Factor):\n",
        "        # Take the product over all incoming factors into this variable except the variable\n",
        "        incoming_messages = [\n",
        "            self.factor_to_variable_message(neighbor_factor, variable)\n",
        "            for neighbor_factor in variable.neighbors\n",
        "            if neighbor_factor.name != factor.name\n",
        "        ]\n",
        "\n",
        "        # If there are no incoming messages, this is 1 (BASE CASE)\n",
        "        return np.prod(incoming_messages, axis=0)\n",
        "\n",
        "    def _factor_to_variable_messages(self, factor, variable: Variable):\n",
        "        #reinstantiate to obtain a deep copy\n",
        "        factor_dist = Distribution(factor.distribution.probs, factor.distribution.axes_labels)\n",
        "\n",
        "        for neighbor_variable in factor.neighbors:\n",
        "            if neighbor_variable.name == variable.name:\n",
        "                continue\n",
        "            #Retrieve the incoming message and multiply the conditional distribution of the factor with the message\n",
        "            incoming_message = self.variable_to_factor_messages(neighbor_variable, factor)\n",
        "            factor_dist = multiply(factor_dist, Distribution(incoming_message, [neighbor_variable.name]))\n",
        "\n",
        "        # Sum over the axes that aren't `variable`\n",
        "        factor_dist = factor_dist.probs\n",
        "        other_axes = factor.distribution.get_other_axes_from(variable.name)\n",
        "        return np.squeeze(np.sum(factor_dist, axis=other_axes))\n",
        "\n",
        "\n",
        "    def marginal(self, variable):\n",
        "        # p(variable) is proportional to the product of incoming messages to variable.\n",
        "        unnorm_p = np.prod([\n",
        "            self.factor_to_variable_message(neighbor_factor, variable)\n",
        "            for neighbor_factor in variable.neighbors\n",
        "        ], axis=0)\n",
        "\n",
        "        # At this point, we can normalize this distribution\n",
        "        return unnorm_p/np.sum(unnorm_p)\n",
        "\n",
        "    def variable_to_factor_messages(self, variable, factor):\n",
        "        message_name = (variable.name, factor.name)\n",
        "        if message_name not in self.messages:\n",
        "            self.messages[message_name] = self._variable_to_factor_messages(variable, factor)\n",
        "        return self.messages[message_name]\n",
        "\n",
        "    def factor_to_variable_message(self, factor, variable):\n",
        "        message_name = (factor.name, variable.name)\n",
        "        if message_name not in self.messages:\n",
        "            self.messages[message_name] = self._factor_to_variable_messages(factor, variable)\n",
        "        return self.messages[message_name]\n",
        "\n",
        "    def forward(self, variable):\n",
        "        neigh_factors = variable.neighbors\n",
        "        for f in neigh_factors:\n",
        "          for v in f.neighbors:\n",
        "            if v.name != variable.name:\n",
        "              seld.variable_to_factor_message(v, f)\n",
        "          self.factor_to_variable_message(f, variable)\n"
      ],
      "metadata": {
        "id": "sSekxsWfQvfU"
      },
      "execution_count": null,
      "outputs": []
    }
  ],
  "metadata": {
    "kernelspec": {
      "display_name": "Python 3 (ipykernel)",
      "language": "python",
      "name": "python3"
    },
    "language_info": {
      "codemirror_mode": {
        "name": "ipython",
        "version": 3
      },
      "file_extension": ".py",
      "mimetype": "text/x-python",
      "name": "python",
      "nbconvert_exporter": "python",
      "pygments_lexer": "ipython3",
      "version": "3.10.12"
    },
    "colab": {
      "provenance": []
    }
  },
  "nbformat": 4,
  "nbformat_minor": 0
}